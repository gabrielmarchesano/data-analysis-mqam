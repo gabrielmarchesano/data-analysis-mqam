{
 "cells": [
  {
   "cell_type": "markdown",
   "id": "b4620ab1",
   "metadata": {},
   "source": [
    "### Como decidir entre remover linhas e imputar pela média\n",
    "- Se a porcentagem de faltantes (`perc_na`) em uma variável quantitativa for alta, a imputação pela média tende a distorcer a variância e achataria a distribuição. Prefira remoção se a amostra continuar adequada.\n",
    "- Se for baixa (ex.: < 5%-10%) e você precisa de mais linhas para modelos, imputar média pode ser aceitável, observando a mudança em `variancia`, `desvio`, `q1/q3` e `p5/p95`.\n",
    "- Diferença: a **variância** mede a dispersão média ao quadrado (unidade ao quadrado); o **desvio padrão** é a raiz da variância (mesma unidade da variável), logo mais interpretável.\n",
    "- Para variáveis categóricas, avalie se faz sentido criar uma categoria 'Desconhecido' dependendo do uso.\n",
    "- Use `comparacao_q` para ver como `media`, `mediana`, `variancia`, `desvio` e separatrizes mudam em cada variável.\n",
    "\n"
   ]
  },
  {
   "cell_type": "code",
   "execution_count": 34,
   "id": "8f047e9c",
   "metadata": {},
   "outputs": [],
   "source": [
    "import pandas as pd\n",
    "import numpy as np\n",
    "import matplotlib.pyplot as plt\n",
    "import seaborn as sns\n",
    "from scipy import stats\n",
    "import warnings\n",
    "warnings.filterwarnings('ignore')"
   ]
  },
  {
   "cell_type": "code",
   "execution_count": 35,
   "id": "15059928",
   "metadata": {},
   "outputs": [],
   "source": [
    "from pathlib import Path\n",
    "\n",
    "pd.set_option('display.float_format', lambda v: f\"{v:,.4f}\")\n",
    "BASE_DIR = Path(__file__).resolve().parent if '__file__' in globals() else Path.cwd()\n",
    "DATA_PATH = BASE_DIR / 'coronarias.xls'  # ajuste se necessário\n",
    "\n"
   ]
  },
  {
   "cell_type": "code",
   "execution_count": 36,
   "id": "ee4f8074",
   "metadata": {},
   "outputs": [],
   "source": [
    "# Carregar dados e normalizar valores faltantes '.'\n",
    "# engine='xlrd' pode ser necessário em alguns ambientes; deixamos automático\n",
    "xls_path = DATA_PATH\n",
    "assert xls_path.exists(), f\"Arquivo não encontrado: {xls_path}\"\n",
    "\n",
    "# Ler a planilha específica 'dados'\n",
    "df_raw = pd.read_excel(xls_path, sheet_name='dados')\n",
    "\n",
    "# Normalização robusta de faltantes: '.', strings vazias e variações com espaços\n",
    "def normalize_missing(val):\n",
    "    if isinstance(val, str):\n",
    "        v = val.strip()\n",
    "        if v == '' or v == '.':\n",
    "            return np.nan\n",
    "    return val\n"
   ]
  },
  {
   "cell_type": "code",
   "execution_count": 37,
   "id": "137a3651",
   "metadata": {},
   "outputs": [
    {
     "name": "stdout",
     "output_type": "stream",
     "text": [
      "✅ Arquivo carregado com sucesso!\n",
      "📊 Dimensões do dataset: (1500, 70)\n"
     ]
    }
   ],
   "source": [
    "pd.set_option('display.max_columns', None)\n",
    "pd.set_option('display.width', None)\n",
    "\n",
    "\n",
    "try:\n",
    "    # Carrega o arquivo Excel\n",
    "    df = pd.read_excel('coronarias.xls', sheet_name='dados')\n",
    "    print(\"✅ Arquivo carregado com sucesso!\")\n",
    "    print(f\"📊 Dimensões do dataset: {df.shape}\")\n",
    "except Exception as e:\n",
    "    print(f\"❌ Erro ao carregar o arquivo: {e}\")\n",
    "    "
   ]
  },
  {
   "cell_type": "markdown",
   "id": "ccc94414",
   "metadata": {},
   "source": []
  },
  {
   "cell_type": "code",
   "execution_count": 38,
   "id": "5a557e8b",
   "metadata": {},
   "outputs": [
    {
     "name": "stdout",
     "output_type": "stream",
     "text": [
      "Número de registros preenchidos com '.' por coluna:\n",
      "C/H        482\n",
      "C/H-S      482\n",
      "C/H-M      482\n",
      "HDLM       478\n",
      "HDL        478\n",
      "HDLS       478\n",
      "GLICM      306\n",
      "GLICS      306\n",
      "TRIGM      291\n",
      "TRIG       291\n",
      "TRIGS      291\n",
      "COLM       253\n",
      "COLS       253\n",
      "COL        253\n",
      "GLIC       231\n",
      "TABAG4     130\n",
      "TABAG      130\n",
      "DIAB       111\n",
      "ALTURA      78\n",
      "OBESO       78\n",
      "IMC         78\n",
      "HA          52\n",
      "PESO        41\n",
      "ARTER       19\n",
      "PDR          7\n",
      "PSR          7\n",
      "CAT          0\n",
      "DA           0\n",
      "CD           0\n",
      "IMP          0\n",
      "ANGINS       0\n",
      "AH           0\n",
      "ANGEST       0\n",
      "IDENT        0\n",
      "ARRIT        0\n",
      "ICC          0\n",
      "IMA          0\n",
      "IDADE1       0\n",
      "DI           0\n",
      "AH3          0\n",
      "AH2          0\n",
      "SELO         0\n",
      "LO3          0\n",
      "IDA55        0\n",
      "SEID         0\n",
      "M_PA         0\n",
      "M_C          0\n",
      "CX           0\n",
      "NUMAL        0\n",
      "SEXO         0\n",
      "IDADFEM      0\n",
      "IDADMAS      0\n",
      "IDA60        0\n",
      "SEID6        0\n",
      "INFARTO      0\n",
      "dtype: int64\n",
      "6086\n"
     ]
    }
   ],
   "source": [
    "# Contar o número de registros preenchidos com o caractere \".\" em cada coluna\n",
    "num_pontos_por_coluna = (df == '.').sum()\n",
    "print(\"Número de registros preenchidos com '.' por coluna:\")\n",
    "filtro = num_pontos_por_coluna[num_pontos_por_coluna < 500]\n",
    "print(filtro.sort_values(ascending=False))\n",
    "print(filtro.sum())"
   ]
  },
  {
   "cell_type": "code",
   "execution_count": 39,
   "id": "c3bd5221",
   "metadata": {},
   "outputs": [
    {
     "name": "stdout",
     "output_type": "stream",
     "text": [
      "Colunas não encontradas (verificar nomes): []\n"
     ]
    }
   ],
   "source": [
    "# Seleção das variáveis solicitadas\n",
    "# Categóricas: SEXO, AH3, INFARTO, ANGEST, DIAB, ARTER, ARRIT, TABAG4, OBESO\n",
    "# Quantitativas: IDADE1, ALTURA, PESO, IMC, COL, TRIG, PSR, PDR\n",
    "\n",
    "categoricas = ['SEXO','AH3','INFARTO','ANGEST','DIAB','ARTER','ARRIT','TABAG4','OBESO']\n",
    "quantitativas = ['IDADE1','ALTURA','PESO','IMC','COL','TRIG','PSR','PDR']\n",
    "\n",
    "# Filtrar apenas colunas existentes (nome pode variar no arquivo)\n",
    "cols_existentes = [c for c in categoricas + quantitativas if c in df.columns]\n",
    "missing_cols = sorted(set(categoricas + quantitativas) - set(cols_existentes))\n",
    "print('Colunas não encontradas (verificar nomes):', missing_cols)\n",
    "\n",
    "df_sel = df[cols_existentes].copy()\n",
    "\n",
    "# Substituir explicitamente '.' e strings vazias por NaN nas colunas selecionadas\n",
    "df_sel = df_sel.applymap(lambda x: np.nan if isinstance(x, str) and x.strip() in {'.', ''} else x)\n",
    "\n",
    "# Conversão robusta para numérico (suporta vírgula decimal e espaços)\n",
    "def to_numeric_locale(series: pd.Series) -> pd.Series:\n",
    "    if series.dtype.kind in 'biufc':\n",
    "        return series.astype(float)\n",
    "    s = series.astype(str).str.strip()\n",
    "    # tratar '.' isolado já virou NaN acima; aqui focamos em números\n",
    "    s = s.str.replace(',', '.', regex=False)\n",
    "    s = s.str.replace(r'[^0-9\\.-]', '', regex=True)\n",
    "    return pd.to_numeric(s, errors='coerce')\n",
    "\n",
    "for c in quantitativas:\n",
    "    if c in df_sel.columns:\n",
    "        df_sel[c] = to_numeric_locale(df_sel[c])"
   ]
  },
  {
   "cell_type": "code",
   "execution_count": 40,
   "id": "709f136f",
   "metadata": {},
   "outputs": [],
   "source": [
    "#codigo que seleciona 500 linhas diferentes do df original e salva em um csv\n",
    "import random\n",
    "import math\n",
    "\n",
    "def criaCsv():\n",
    "    linhas_selecionadas = set()\n",
    "    linhas_selecionadas.add(1600)\n",
    "    nLinhas = 0\n",
    "    while nLinhas <= 499:\n",
    "        linha_escolhida = 1600\n",
    "        while linha_escolhida in linhas_selecionadas:\n",
    "            linha_escolhida = math.floor(random.random()*len(df_sel))\n",
    "        linha_raw = df_sel.loc[linha_escolhida]\n",
    "        nLinhas += 1\n",
    "        linhas_selecionadas.add(linha_escolhida)\n",
    "    linhas_selecionadas.remove(1600)\n",
    "    df_csv = df_sel.loc[list(linhas_selecionadas)]\n",
    "    df_csv.to_csv('coronarias.csv',sep=';',na_rep='NaN',index=True)\n",
    "\n",
    "criaCsv()\n",
    "#O arquivo foi criado e se encontra na pasta.\n"
   ]
  },
  {
   "cell_type": "code",
   "execution_count": 41,
   "id": "399b5f51",
   "metadata": {},
   "outputs": [
    {
     "name": "stdout",
     "output_type": "stream",
     "text": [
      "Unnamed: 0     0\n",
      "SEXO           0\n",
      "AH3            0\n",
      "INFARTO        0\n",
      "ANGEST         0\n",
      "DIAB          34\n",
      "ARTER          7\n",
      "ARRIT          0\n",
      "TABAG4        42\n",
      "OBESO         17\n",
      "IDADE1         0\n",
      "ALTURA        17\n",
      "PESO           5\n",
      "IMC           17\n",
      "COL           60\n",
      "TRIG          76\n",
      "PSR            3\n",
      "PDR            3\n",
      "dtype: int64\n"
     ]
    }
   ],
   "source": [
    "# abre o csv e conta quantos NaN tem em cada coluna\n",
    "\n",
    "\n",
    "import random\n",
    "import math\n",
    "import numpy as np\n",
    "import pandas as pd\n",
    "\n",
    "\n",
    "df_csv_final = pd.read_csv('coronarias.csv',sep=';',na_values='NaN')\n",
    "nan_por_coluna = df_csv_final.isna().sum()\n",
    "\n",
    "#cria csvs aleatorios até a coluna trig ter poucos dados faltantes\n",
    "while nan_por_coluna['TRIG'] >= 80:\n",
    "    criaCsv()\n",
    "    df_csv_final = pd.read_csv('coronarias.csv',sep=';',na_values='NaN')\n",
    "    nan_por_coluna = df_csv_final.isna().sum()\n",
    "\n",
    "print(nan_por_coluna)\n"
   ]
  }
 ],
 "metadata": {
  "kernelspec": {
   "display_name": "Python 3",
   "language": "python",
   "name": "python3"
  },
  "language_info": {
   "codemirror_mode": {
    "name": "ipython",
    "version": 3
   },
   "file_extension": ".py",
   "mimetype": "text/x-python",
   "name": "python",
   "nbconvert_exporter": "python",
   "pygments_lexer": "ipython3",
   "version": "3.13.7"
  }
 },
 "nbformat": 4,
 "nbformat_minor": 5
}
