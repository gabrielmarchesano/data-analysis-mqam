{
 "cells": [
  {
   "cell_type": "code",
   "execution_count": 409,
   "id": "d4ae9fbd",
   "metadata": {},
   "outputs": [],
   "source": [
    "import kagglehub\n",
    "import pandas as pd \n",
    "import numpy as np\n",
    "import matplotlib.pyplot as plt\n",
    "import seaborn as sns"
   ]
  },
  {
   "cell_type": "code",
   "execution_count": 410,
   "id": "318c1c41",
   "metadata": {},
   "outputs": [],
   "source": [
    "##path = kagglehub.dataset_download(\"mahmoudelhemaly/students-grading-dataset\")\n",
    "## print(\"Path to dataset files:\", path)\n",
    "#Download ja foi feito na 1a execução. Como o dataset ja esta na maquina, não a porque executá-lo sempre\n",
    "data = pd.read_csv(r\"c:\\\\Users\\\\Usuario\\\\.cache\\\\kagglehub\\\\datasets\\\\mahmoudelhemaly\\\\students-grading-dataset\\\\versions\\\\5\\\\Students Performance Dataset.csv\")"
   ]
  },
  {
   "cell_type": "code",
   "execution_count": 411,
   "id": "c1c19941",
   "metadata": {},
   "outputs": [
    {
     "data": {
      "text/html": [
       "<div>\n",
       "<style scoped>\n",
       "    .dataframe tbody tr th:only-of-type {\n",
       "        vertical-align: middle;\n",
       "    }\n",
       "\n",
       "    .dataframe tbody tr th {\n",
       "        vertical-align: top;\n",
       "    }\n",
       "\n",
       "    .dataframe thead th {\n",
       "        text-align: right;\n",
       "    }\n",
       "</style>\n",
       "<table border=\"1\" class=\"dataframe\">\n",
       "  <thead>\n",
       "    <tr style=\"text-align: right;\">\n",
       "      <th></th>\n",
       "      <th>Student_ID</th>\n",
       "      <th>First_Name</th>\n",
       "      <th>Last_Name</th>\n",
       "      <th>Email</th>\n",
       "      <th>Gender</th>\n",
       "      <th>Age</th>\n",
       "      <th>Department</th>\n",
       "      <th>Attendance (%)</th>\n",
       "      <th>Midterm_Score</th>\n",
       "      <th>Final_Score</th>\n",
       "      <th>...</th>\n",
       "      <th>Projects_Score</th>\n",
       "      <th>Total_Score</th>\n",
       "      <th>Grade</th>\n",
       "      <th>Study_Hours_per_Week</th>\n",
       "      <th>Extracurricular_Activities</th>\n",
       "      <th>Internet_Access_at_Home</th>\n",
       "      <th>Parent_Education_Level</th>\n",
       "      <th>Family_Income_Level</th>\n",
       "      <th>Stress_Level (1-10)</th>\n",
       "      <th>Sleep_Hours_per_Night</th>\n",
       "    </tr>\n",
       "  </thead>\n",
       "  <tbody>\n",
       "    <tr>\n",
       "      <th>0</th>\n",
       "      <td>S1000</td>\n",
       "      <td>Omar</td>\n",
       "      <td>Williams</td>\n",
       "      <td>student0@university.com</td>\n",
       "      <td>Female</td>\n",
       "      <td>22</td>\n",
       "      <td>Mathematics</td>\n",
       "      <td>97.36</td>\n",
       "      <td>40.61</td>\n",
       "      <td>59.61</td>\n",
       "      <td>...</td>\n",
       "      <td>62.84</td>\n",
       "      <td>59.8865</td>\n",
       "      <td>F</td>\n",
       "      <td>10.3</td>\n",
       "      <td>Yes</td>\n",
       "      <td>No</td>\n",
       "      <td>Master's</td>\n",
       "      <td>Medium</td>\n",
       "      <td>1</td>\n",
       "      <td>5.9</td>\n",
       "    </tr>\n",
       "    <tr>\n",
       "      <th>1</th>\n",
       "      <td>S1001</td>\n",
       "      <td>Maria</td>\n",
       "      <td>Brown</td>\n",
       "      <td>student1@university.com</td>\n",
       "      <td>Male</td>\n",
       "      <td>18</td>\n",
       "      <td>Business</td>\n",
       "      <td>97.71</td>\n",
       "      <td>57.27</td>\n",
       "      <td>74.00</td>\n",
       "      <td>...</td>\n",
       "      <td>98.23</td>\n",
       "      <td>81.9170</td>\n",
       "      <td>B</td>\n",
       "      <td>27.1</td>\n",
       "      <td>No</td>\n",
       "      <td>No</td>\n",
       "      <td>High School</td>\n",
       "      <td>Low</td>\n",
       "      <td>4</td>\n",
       "      <td>4.3</td>\n",
       "    </tr>\n",
       "    <tr>\n",
       "      <th>2</th>\n",
       "      <td>S1002</td>\n",
       "      <td>Ahmed</td>\n",
       "      <td>Jones</td>\n",
       "      <td>student2@university.com</td>\n",
       "      <td>Male</td>\n",
       "      <td>24</td>\n",
       "      <td>Engineering</td>\n",
       "      <td>99.52</td>\n",
       "      <td>41.84</td>\n",
       "      <td>63.85</td>\n",
       "      <td>...</td>\n",
       "      <td>91.22</td>\n",
       "      <td>67.7170</td>\n",
       "      <td>D</td>\n",
       "      <td>12.4</td>\n",
       "      <td>Yes</td>\n",
       "      <td>No</td>\n",
       "      <td>High School</td>\n",
       "      <td>Low</td>\n",
       "      <td>9</td>\n",
       "      <td>6.1</td>\n",
       "    </tr>\n",
       "    <tr>\n",
       "      <th>3</th>\n",
       "      <td>S1003</td>\n",
       "      <td>Omar</td>\n",
       "      <td>Williams</td>\n",
       "      <td>student3@university.com</td>\n",
       "      <td>Female</td>\n",
       "      <td>24</td>\n",
       "      <td>Engineering</td>\n",
       "      <td>90.38</td>\n",
       "      <td>45.65</td>\n",
       "      <td>44.44</td>\n",
       "      <td>...</td>\n",
       "      <td>55.48</td>\n",
       "      <td>51.6535</td>\n",
       "      <td>F</td>\n",
       "      <td>25.5</td>\n",
       "      <td>No</td>\n",
       "      <td>Yes</td>\n",
       "      <td>High School</td>\n",
       "      <td>Low</td>\n",
       "      <td>8</td>\n",
       "      <td>4.9</td>\n",
       "    </tr>\n",
       "    <tr>\n",
       "      <th>4</th>\n",
       "      <td>S1004</td>\n",
       "      <td>John</td>\n",
       "      <td>Smith</td>\n",
       "      <td>student4@university.com</td>\n",
       "      <td>Female</td>\n",
       "      <td>23</td>\n",
       "      <td>CS</td>\n",
       "      <td>59.41</td>\n",
       "      <td>53.13</td>\n",
       "      <td>61.77</td>\n",
       "      <td>...</td>\n",
       "      <td>87.43</td>\n",
       "      <td>71.4030</td>\n",
       "      <td>C</td>\n",
       "      <td>13.3</td>\n",
       "      <td>Yes</td>\n",
       "      <td>No</td>\n",
       "      <td>Master's</td>\n",
       "      <td>Medium</td>\n",
       "      <td>6</td>\n",
       "      <td>4.5</td>\n",
       "    </tr>\n",
       "  </tbody>\n",
       "</table>\n",
       "<p>5 rows × 23 columns</p>\n",
       "</div>"
      ],
      "text/plain": [
       "  Student_ID First_Name Last_Name                    Email  Gender  Age  \\\n",
       "0      S1000       Omar  Williams  student0@university.com  Female   22   \n",
       "1      S1001      Maria     Brown  student1@university.com    Male   18   \n",
       "2      S1002      Ahmed     Jones  student2@university.com    Male   24   \n",
       "3      S1003       Omar  Williams  student3@university.com  Female   24   \n",
       "4      S1004       John     Smith  student4@university.com  Female   23   \n",
       "\n",
       "    Department  Attendance (%)  Midterm_Score  Final_Score  ...  \\\n",
       "0  Mathematics           97.36          40.61        59.61  ...   \n",
       "1     Business           97.71          57.27        74.00  ...   \n",
       "2  Engineering           99.52          41.84        63.85  ...   \n",
       "3  Engineering           90.38          45.65        44.44  ...   \n",
       "4           CS           59.41          53.13        61.77  ...   \n",
       "\n",
       "   Projects_Score  Total_Score  Grade  Study_Hours_per_Week  \\\n",
       "0           62.84      59.8865      F                  10.3   \n",
       "1           98.23      81.9170      B                  27.1   \n",
       "2           91.22      67.7170      D                  12.4   \n",
       "3           55.48      51.6535      F                  25.5   \n",
       "4           87.43      71.4030      C                  13.3   \n",
       "\n",
       "   Extracurricular_Activities Internet_Access_at_Home  Parent_Education_Level  \\\n",
       "0                         Yes                      No                Master's   \n",
       "1                          No                      No             High School   \n",
       "2                         Yes                      No             High School   \n",
       "3                          No                     Yes             High School   \n",
       "4                         Yes                      No                Master's   \n",
       "\n",
       "  Family_Income_Level Stress_Level (1-10) Sleep_Hours_per_Night  \n",
       "0              Medium                   1                   5.9  \n",
       "1                 Low                   4                   4.3  \n",
       "2                 Low                   9                   6.1  \n",
       "3                 Low                   8                   4.9  \n",
       "4              Medium                   6                   4.5  \n",
       "\n",
       "[5 rows x 23 columns]"
      ]
     },
     "execution_count": 411,
     "metadata": {},
     "output_type": "execute_result"
    }
   ],
   "source": [
    "data.head()"
   ]
  },
  {
   "cell_type": "code",
   "execution_count": 412,
   "id": "ae696b8c",
   "metadata": {},
   "outputs": [
    {
     "data": {
      "text/plain": [
       "['Student_ID',\n",
       " 'First_Name',\n",
       " 'Last_Name',\n",
       " 'Email',\n",
       " 'Gender',\n",
       " 'Age',\n",
       " 'Department',\n",
       " 'Attendance (%)',\n",
       " 'Midterm_Score',\n",
       " 'Final_Score',\n",
       " 'Assignments_Avg',\n",
       " 'Quizzes_Avg',\n",
       " 'Participation_Score',\n",
       " 'Projects_Score',\n",
       " 'Total_Score',\n",
       " 'Grade',\n",
       " 'Study_Hours_per_Week',\n",
       " 'Extracurricular_Activities',\n",
       " 'Internet_Access_at_Home',\n",
       " 'Parent_Education_Level',\n",
       " 'Family_Income_Level',\n",
       " 'Stress_Level (1-10)',\n",
       " 'Sleep_Hours_per_Night']"
      ]
     },
     "execution_count": 412,
     "metadata": {},
     "output_type": "execute_result"
    }
   ],
   "source": [
    "list(data.columns)"
   ]
  },
  {
   "cell_type": "code",
   "execution_count": 413,
   "id": "4cc979f3",
   "metadata": {},
   "outputs": [
    {
     "name": "stdout",
     "output_type": "stream",
     "text": [
      "<class 'pandas.core.frame.DataFrame'>\n",
      "RangeIndex: 5000 entries, 0 to 4999\n",
      "Data columns (total 23 columns):\n",
      " #   Column                      Non-Null Count  Dtype  \n",
      "---  ------                      --------------  -----  \n",
      " 0   Student_ID                  5000 non-null   object \n",
      " 1   First_Name                  5000 non-null   object \n",
      " 2   Last_Name                   5000 non-null   object \n",
      " 3   Email                       5000 non-null   object \n",
      " 4   Gender                      5000 non-null   object \n",
      " 5   Age                         5000 non-null   int64  \n",
      " 6   Department                  5000 non-null   object \n",
      " 7   Attendance (%)              5000 non-null   float64\n",
      " 8   Midterm_Score               5000 non-null   float64\n",
      " 9   Final_Score                 5000 non-null   float64\n",
      " 10  Assignments_Avg             5000 non-null   float64\n",
      " 11  Quizzes_Avg                 5000 non-null   float64\n",
      " 12  Participation_Score         5000 non-null   float64\n",
      " 13  Projects_Score              5000 non-null   float64\n",
      " 14  Total_Score                 5000 non-null   float64\n",
      " 15  Grade                       5000 non-null   object \n",
      " 16  Study_Hours_per_Week        5000 non-null   float64\n",
      " 17  Extracurricular_Activities  5000 non-null   object \n",
      " 18  Internet_Access_at_Home     5000 non-null   object \n",
      " 19  Parent_Education_Level      3975 non-null   object \n",
      " 20  Family_Income_Level         5000 non-null   object \n",
      " 21  Stress_Level (1-10)         5000 non-null   int64  \n",
      " 22  Sleep_Hours_per_Night       5000 non-null   float64\n",
      "dtypes: float64(10), int64(2), object(11)\n",
      "memory usage: 898.6+ KB\n"
     ]
    }
   ],
   "source": [
    "data.info()"
   ]
  },
  {
   "cell_type": "code",
   "execution_count": 414,
   "id": "d8b034eb",
   "metadata": {},
   "outputs": [
    {
     "data": {
      "text/plain": [
       "Student_ID                       0\n",
       "First_Name                       0\n",
       "Last_Name                        0\n",
       "Email                            0\n",
       "Gender                           0\n",
       "Age                              0\n",
       "Department                       0\n",
       "Attendance (%)                   0\n",
       "Midterm_Score                    0\n",
       "Final_Score                      0\n",
       "Assignments_Avg                  0\n",
       "Quizzes_Avg                      0\n",
       "Participation_Score              0\n",
       "Projects_Score                   0\n",
       "Total_Score                      0\n",
       "Grade                            0\n",
       "Study_Hours_per_Week             0\n",
       "Extracurricular_Activities       0\n",
       "Internet_Access_at_Home          0\n",
       "Parent_Education_Level        1025\n",
       "Family_Income_Level              0\n",
       "Stress_Level (1-10)              0\n",
       "Sleep_Hours_per_Night            0\n",
       "dtype: int64"
      ]
     },
     "execution_count": 414,
     "metadata": {},
     "output_type": "execute_result"
    }
   ],
   "source": [
    "data.isnull().sum()"
   ]
  },
  {
   "cell_type": "code",
   "execution_count": 415,
   "id": "8a4cbc97",
   "metadata": {},
   "outputs": [],
   "source": [
    "#Verificando se os valores nulos fazem sentido ou se causam distorções que vão prejudicar a análise\n"
   ]
  },
  {
   "cell_type": "code",
   "execution_count": 416,
   "id": "f9cdfb39",
   "metadata": {},
   "outputs": [
    {
     "name": "stdout",
     "output_type": "stream",
     "text": [
      "Alunos com 0 de presença e de nota de trabalho: 0\n"
     ]
    }
   ],
   "source": [
    "ambas_nulas = data[data['Attendance (%)'].isnull() & data['Assignments_Avg'].isnull()]\n",
    "print(f\"Alunos com 0 de presença e de nota de trabalho: {len(ambas_nulas)}\")"
   ]
  },
  {
   "cell_type": "code",
   "execution_count": 417,
   "id": "ebe535eb",
   "metadata": {},
   "outputs": [
    {
     "name": "stdout",
     "output_type": "stream",
     "text": [
      "Alunos reprovados e sem presença: 0\n"
     ]
    }
   ],
   "source": [
    "reprovados_sem_presença = data[(data['Attendance (%)'].isnull()) & (data['Grade'] == 'F') & (data['Total_Score'] <= 60)]\n",
    "print(f\"Alunos reprovados e sem presença: {len(reprovados_sem_presença)}\")"
   ]
  },
  {
   "cell_type": "code",
   "execution_count": 418,
   "id": "2dd112cc",
   "metadata": {
    "vscode": {
     "languageId": "powershell"
    }
   },
   "outputs": [
    {
     "name": "stdout",
     "output_type": "stream",
     "text": [
      "Média de nota dos alunos sem presença: nan\n"
     ]
    }
   ],
   "source": [
    "sem_presença = data[data['Attendance (%)'].isnull()]\n",
    "media_nota_sem_presença = sem_presença['Total_Score'].mean()\n",
    "print(f\"Média de nota dos alunos sem presença: {media_nota_sem_presença:.2f}\")"
   ]
  },
  {
   "cell_type": "code",
   "execution_count": 419,
   "id": "ba35db67",
   "metadata": {},
   "outputs": [
    {
     "name": "stdout",
     "output_type": "stream",
     "text": [
      "Alunos com nota A: 16\n",
      "Média de nota dos alunos com A: 91.28\n"
     ]
    }
   ],
   "source": [
    "alunos_A = data[data['Grade'] == 'A']\n",
    "print(f\"Alunos com nota A: {len(alunos_A)}\")\n",
    "media_A = alunos_A['Total_Score'].mean()\n",
    "print(f\"Média de nota dos alunos com A: {media_A:.2f}\")"
   ]
  }
 ],
 "metadata": {
  "kernelspec": {
   "display_name": ".venv (3.12.1)",
   "language": "python",
   "name": "python3"
  },
  "language_info": {
   "codemirror_mode": {
    "name": "ipython",
    "version": 3
   },
   "file_extension": ".py",
   "mimetype": "text/x-python",
   "name": "python",
   "nbconvert_exporter": "python",
   "pygments_lexer": "ipython3",
   "version": "3.12.1"
  }
 },
 "nbformat": 4,
 "nbformat_minor": 5
}
