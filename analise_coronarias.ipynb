{
 "cells": [
  {
   "cell_type": "code",
   "execution_count": 64,
   "id": "8f047e9c",
   "metadata": {},
   "outputs": [],
   "source": [
    "import pandas as pd\n",
    "import numpy as np\n",
    "import matplotlib.pyplot as plt\n",
    "import seaborn as sns\n",
    "from scipy import stats\n",
    "import warnings\n",
    "warnings.filterwarnings('ignore')"
   ]
  },
  {
   "cell_type": "code",
   "execution_count": 65,
   "id": "137a3651",
   "metadata": {},
   "outputs": [
    {
     "name": "stdout",
     "output_type": "stream",
     "text": [
      "✅ Arquivo carregado com sucesso!\n",
      "📊 Dimensões do dataset: (1500, 70)\n"
     ]
    }
   ],
   "source": [
    "pd.set_option('display.max_columns', None)\n",
    "pd.set_option('display.width', None)\n",
    "\n",
    "\n",
    "try:\n",
    "    # Carrega o arquivo Excel\n",
    "    df = pd.read_excel('coronarias.xls', sheet_name='dados')\n",
    "    print(\"✅ Arquivo carregado com sucesso!\")\n",
    "    print(f\"📊 Dimensões do dataset: {df.shape}\")\n",
    "except Exception as e:\n",
    "    print(f\"❌ Erro ao carregar o arquivo: {e}\")\n",
    "    "
   ]
  },
  {
   "cell_type": "markdown",
   "id": "ccc94414",
   "metadata": {},
   "source": []
  },
  {
   "cell_type": "code",
   "execution_count": 66,
   "id": "5a557e8b",
   "metadata": {},
   "outputs": [
    {
     "name": "stdout",
     "output_type": "stream",
     "text": [
      "Número de registros preenchidos com '.' por coluna:\n",
      "C/H-S      482\n",
      "C/H        482\n",
      "C/H-M      482\n",
      "HDL        478\n",
      "HDLM       478\n",
      "HDLS       478\n",
      "GLICS      306\n",
      "GLICM      306\n",
      "TRIGS      291\n",
      "TRIGM      291\n",
      "TRIG       291\n",
      "COLM       253\n",
      "COL        253\n",
      "COLS       253\n",
      "GLIC       231\n",
      "TABAG4     130\n",
      "TABAG      130\n",
      "DIAB       111\n",
      "ALTURA      78\n",
      "OBESO       78\n",
      "IMC         78\n",
      "HA          52\n",
      "PESO        41\n",
      "ARTER       19\n",
      "PSR          7\n",
      "PDR          7\n",
      "INFARTO      0\n",
      "IDADMAS      0\n",
      "IDADFEM      0\n",
      "SEID6        0\n",
      "IDA60        0\n",
      "AH3          0\n",
      "AH2          0\n",
      "SELO         0\n",
      "IDENT        0\n",
      "LO3          0\n",
      "SEID         0\n",
      "AH           0\n",
      "ANGEST       0\n",
      "ANGINS       0\n",
      "IMP          0\n",
      "ICC          0\n",
      "IMA          0\n",
      "ARRIT        0\n",
      "CAT          0\n",
      "CD           0\n",
      "DA           0\n",
      "DI           0\n",
      "CX           0\n",
      "NUMAL        0\n",
      "IDADE1       0\n",
      "M_PA         0\n",
      "M_C          0\n",
      "IDA55        0\n",
      "SEXO         0\n",
      "dtype: int64\n",
      "6086\n"
     ]
    }
   ],
   "source": [
    "# Contar o número de registros preenchidos com o caractere \".\" em cada coluna\n",
    "num_pontos_por_coluna = (df == '.').sum()\n",
    "print(\"Número de registros preenchidos com '.' por coluna:\")\n",
    "filtro = num_pontos_por_coluna[num_pontos_por_coluna < 500]\n",
    "print(filtro.sort_values(ascending=False))\n",
    "print(filtro.sum())"
   ]
  }
 ],
 "metadata": {
  "kernelspec": {
   "display_name": "Python 3",
   "language": "python",
   "name": "python3"
  },
  "language_info": {
   "codemirror_mode": {
    "name": "ipython",
    "version": 3
   },
   "file_extension": ".py",
   "mimetype": "text/x-python",
   "name": "python",
   "nbconvert_exporter": "python",
   "pygments_lexer": "ipython3",
   "version": "3.12.1"
  }
 },
 "nbformat": 4,
 "nbformat_minor": 5
}
